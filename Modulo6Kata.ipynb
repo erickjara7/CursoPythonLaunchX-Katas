{
 "cells": [
  {
   "cell_type": "markdown",
   "metadata": {},
   "source": [
    "* Alumno: Erick Saúl Jara Orozco\n",
    "* GitHub: https://github.com/erickjara7\n",
    "\n",
    "# Módulo 6 - Introducción a las listas\n",
    "## Ejercicio 1: Crear y usar listas de Python\n",
    "\n",
    "Ejercicio: Usar listas para almacenar nombres de planetas\n",
    "Las listas permiten almacenar varios valores en una sola variable. Comenzarás un proyecto sobre información planetaria creando una lista de planetas."
   ]
  },
  {
   "cell_type": "code",
   "execution_count": null,
   "metadata": {},
   "outputs": [],
   "source": [
    "# En primer lugar, crea una variable denominada planets. Agrega los ocho planetas (sin Plutón) a la lista. A continuación, muestra el número de planetas.\n",
    "planets = [\"Mercurio\", \"Venus\", \"Tierra\", \"Marte\", \"Jupiter\", \"Saturno\", \"Urano\", \"Neptuno\"]\n",
    "print(f\"\"\"En el sistema solar hay {len(planets)} planetas\"\"\")\n",
    "\n",
    "# Agregamos a plutón y mostramos el último elemento\n",
    "planets.append(\"Pluton\")\n",
    "print(f\"\"\"El ultimo planeta en el sistema solar es {planets[-1]}.\"\"\")\n",
    "\n"
   ]
  },
  {
   "cell_type": "markdown",
   "metadata": {},
   "source": [
    "## Ejercicio 2: Trabajando con datos de una lista\n",
    "Usar slices para recuperar partes de una lista\n",
    "Es posible que debas trabajar con diferentes secciones de una lista. En nuestro ejemplo, queremos mostrar planetas más cerca y más lejos del sol de un planeta que el usuario ingresa por teclado.\n",
    "\n",
    "Comienza agregando el código para crear una lista con los planetas."
   ]
  },
  {
   "cell_type": "code",
   "execution_count": null,
   "metadata": {},
   "outputs": [],
   "source": [
    "# En primer lugar, crea una variable denominada planets. Agrega los ocho planetas (sin Plutón) a la lista. A continuación, muestra el número de planetas.\n",
    "planets = [\"Mercurio\", \"Venus\", \"Tierra\", \"Marte\", \"Jupiter\", \"Saturno\", \"Urano\", \"Neptuno\"]\n",
    "\n",
    "# A continuación, agrega el código para solicitar al usuario un nombre. \n",
    "# Debido a que las cadenas distinguen entre mayúsculas y minúsculas en Python, pídale al usuario que use una letra mayúscula para comenzar el nombre del planeta.\n",
    "\n",
    "nombre_planeta = input(\"¿Cual es el nombre del planeta?\")\n",
    "nombre_mayus = nombre_planeta.capitalize()\n",
    "\n",
    "# Para determinar qué planetas están más cerca que el que ingresó el usuario, debes encontrar dónde está el planeta en la lista. \n",
    "# Puedes utilizar index para realizar esta operación. Agrega el código para encontrar el índice del planeta.\n",
    "indice_planeta = planets.index(nombre_mayus)\n",
    "\n",
    "# Con el índice determinado, ahora puedes agregar el código para mostrar los planetas más cercanos al sol.\n",
    "print(f\"\"\"Los planetas mas cercanos a {nombre_mayus} son: \"\"\")\n",
    "print(planets[0:indice_planeta])\n",
    "\n",
    "# Muestra los planetas más lejanos al sol\n",
    "print(f\"\"\"Los planetas mas lejanos a {nombre_mayus} son: \"\"\")\n",
    "print(planets[indice_planeta + 1:])\n",
    "\n",
    "# En el caso de los planetas con indice 0 y el ultimo, retornan una lista vacia ya que segun la condicion actual no hay planetas mas cercanos o lejanos al sol, respectivamente.\n"
   ]
  }
 ],
 "metadata": {
  "interpreter": {
   "hash": "8063767513262164a0fcd2aadb4a0586755581228d982f1cf21d3bafc4442c9d"
  },
  "kernelspec": {
   "display_name": "Python 3.10.2 64-bit",
   "language": "python",
   "name": "python3"
  },
  "language_info": {
   "codemirror_mode": {
    "name": "ipython",
    "version": 3
   },
   "file_extension": ".py",
   "mimetype": "text/x-python",
   "name": "python",
   "nbconvert_exporter": "python",
   "pygments_lexer": "ipython3",
   "version": "3.10.2"
  },
  "orig_nbformat": 4
 },
 "nbformat": 4,
 "nbformat_minor": 2
}
