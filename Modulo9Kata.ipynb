{
 "cells": [
  {
   "cell_type": "markdown",
   "metadata": {},
   "source": [
    "* Alumno: Erick Saúl Jara Orozco\n",
    "* GitHub: https://github.com/erickjara7\n",
    "\n",
    "# Módulo 9 - Módulo 9 - Funciones\n",
    "## Ejercicio: Uso de funciones en Python\n",
    "### Ejercicio 1: Trabajar con argumentos en funciones\n",
    "Los argumentos requeridos en las funciones se utilizan cuando las funciones necesitan que esos argumentos funcionen correctamente. En este ejercicio, construirás un informe de combustible que requiere información de varias ubicaciones de combustible en todo el cohete."
   ]
  },
  {
   "cell_type": "code",
   "execution_count": null,
   "metadata": {},
   "outputs": [],
   "source": [
    "# Función para leer 3 tanques de combustible y muestre el promedio\n",
    "def consumo_combustible(tanque_1, tanque_2, tanque_3):\n",
    "    return f\"\"\"Consumos de Combustible:\n",
    "    Promedio: {promedio([tanque_1, tanque_2, tanque_3])}\n",
    "    Tanque 1: {tanque_1}\n",
    "    Tanque 2: {tanque_2}\n",
    "    Tanque 3: {tanque_3}\n",
    "    \"\"\"\n",
    "\n",
    "def promedio(valores):\n",
    "    total = sum(valores)\n",
    "    elementos = len(valores)\n",
    "    return total / elementos\n",
    "\n",
    "print(consumo_combustible(39447, 543345, 23232))\n"
   ]
  },
  {
   "cell_type": "markdown",
   "metadata": {},
   "source": [
    "## Ejercicio 2: Trabajo con argumentos de palabra clave\n",
    "### Ejercicio : Trabajar con argumentos de palabras clave en funciones\n",
    "En este ejercicio, construirás un informe de cohete que requiere varias piezas de información, como el tiempo hasta el destino, el combustible a la izquierda y el nombre del destino. Comienza por crear una función que creará un informe preciso de la misión:\n",
    "\n",
    "La función es problemática porque no se puede adaptar para minutos adicionales o tanques adicionales de combustible. Hazlo más flexible permitiendo cualquier número de pasos basados en el tiempo y cualquier número de tanques. En lugar de usar *args y **kwargs, aprovecha el hecho de que puedes usar cualquier nombre que desees. Asegurate que la función sea más legible mediante el uso de nombres de variables que están asociados con las entradas, como *minutes y **fuel_reservoirs:"
   ]
  },
  {
   "cell_type": "code",
   "execution_count": null,
   "metadata": {},
   "outputs": [],
   "source": [
    "# Función con un informe preciso de la misión. Considera hora de prelanzamiento, tiempo de vuelo, destino, tanque externo y tanque interno\n",
    "def mision(destino, *minutos, **tanques_combustible):\n",
    "    reporte_navegacion = f\"\"\"\n",
    "    La mision actual es rumbo a {destino}\n",
    "    Tiempo total de vuelo son {sum(minutos)} minutos\n",
    "    Combustible restante en el tanque: {sum(tanques_combustible.values())}\n",
    "    \"\"\"\n",
    "    for nombre_tanque, galones in tanques_combustible.items():\n",
    "        reporte_navegacion += f\"Tanque {nombre_tanque} --- {galones} galones restantes\\n\"\n",
    "    return reporte_navegacion\n",
    "\n",
    "print(mision(\"Moon\", 7, 13, 19, Principal=50000, Auxiliar=1000000))"
   ]
  }
 ],
 "metadata": {
  "interpreter": {
   "hash": "8063767513262164a0fcd2aadb4a0586755581228d982f1cf21d3bafc4442c9d"
  },
  "kernelspec": {
   "display_name": "Python 3.10.2 64-bit",
   "language": "python",
   "name": "python3"
  },
  "language_info": {
   "codemirror_mode": {
    "name": "ipython",
    "version": 3
   },
   "file_extension": ".py",
   "mimetype": "text/x-python",
   "name": "python",
   "nbconvert_exporter": "python",
   "pygments_lexer": "ipython3",
   "version": "3.10.2"
  },
  "orig_nbformat": 4
 },
 "nbformat": 4,
 "nbformat_minor": 2
}
