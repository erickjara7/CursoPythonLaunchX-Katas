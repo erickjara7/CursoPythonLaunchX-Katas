{
 "cells": [
  {
   "cell_type": "markdown",
   "metadata": {},
   "source": [
    "* Alumno: Erick Saúl Jara Orozco\n",
    "* GitHub: https://github.com/erickjara7"
   ]
  },
  {
   "cell_type": "markdown",
   "metadata": {},
   "source": [
    "# Módulo 1 - Primeros pasos\n",
    "\n",
    "* Oficial superior> \"¿Cadete?\"\n",
    "* Usted > \"¿Sí, señora?\"\n",
    "* Oficial superior> \"¿Puedes construir un programa que me muestre la fecha? La computadora del barco no venía con mucho en términos de programas de utilidad, por lo que necesitamos crear los que necesitamos. ¿Puedo confiar en ti con esto?\"\n",
    "* Usted > \"Considéralo hecho\".\n",
    "* Oficial superior> \"Excelente\".\n",
    "\n",
    "## Tu primer programa\n",
    "Para crear este programa, deberás utilizar los conceptos que aprendiste en el último módulo. Usarás Jupyter Notebook en este ejercicio, que es una combinación de texto y código con la que puede interactuar. Finaliza el código siguiente para que el resultado muestre la fecha de hoy."
   ]
  },
  {
   "cell_type": "code",
   "execution_count": null,
   "metadata": {},
   "outputs": [],
   "source": [
    "from datetime import date\n",
    "fecha_actual = date.today()\n",
    "\n",
    "# Intento 1\n",
    "print(\"La fecha de hoy es: \" + str(fecha_actual))\n",
    "\n",
    "# Intento 2\n",
    "print(\"La fecha de hoy es:\", str(fecha_actual))\n",
    "\n",
    "# Intento 3\n",
    "print(\"La fecha de hoy es:\", str(date.today()))"
   ]
  },
  {
   "cell_type": "markdown",
   "metadata": {},
   "source": [
    "## Construir un convertidor de unidades\n",
    "* El oficial superior> \"Necesito una cosa más: un programa de conversión entre parsecs y años luz. Tener un programa de este tipo podría ser realmente útil en el puente para trazar nuestro curso\".\n",
    "* Tú> \"¡Lo haré!\"\n",
    "\n",
    "[!TIP] 1 parsec es 3.26156 años luz. Utiliza el operador de multiplicación."
   ]
  },
  {
   "cell_type": "code",
   "execution_count": null,
   "metadata": {},
   "outputs": [],
   "source": [
    "# 1 parsec = 3.26156 años luz\n",
    "factor_conversion = 3.26156\n",
    "parsecs = int(input(\"¿Cuantos parsecs desea convertir a años luz?\"))\n",
    "calculo = parsecs * factor_conversion\n",
    "print(calculo)"
   ]
  }
 ],
 "metadata": {
  "interpreter": {
   "hash": "8063767513262164a0fcd2aadb4a0586755581228d982f1cf21d3bafc4442c9d"
  },
  "kernelspec": {
   "display_name": "Python 3.10.2 64-bit",
   "language": "python",
   "name": "python3"
  },
  "language_info": {
   "codemirror_mode": {
    "name": "ipython",
    "version": 3
   },
   "file_extension": ".py",
   "mimetype": "text/x-python",
   "name": "python",
   "nbconvert_exporter": "python",
   "pygments_lexer": "ipython3",
   "version": "3.10.2"
  },
  "orig_nbformat": 4
 },
 "nbformat": 4,
 "nbformat_minor": 2
}
