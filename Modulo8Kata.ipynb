{
 "cells": [
  {
   "cell_type": "markdown",
   "metadata": {},
   "source": [
    "* Alumno: Erick Saúl Jara Orozco\n",
    "* GitHub: https://github.com/erickjara7\n",
    "\n",
    "# Módulo 8 - Administrar datos con diccionarios\n",
    "## Ejercicio 1: Creación de diccionarios de Python\n",
    "### Ejercicio: Crear y modificar un diccionario de Python\n",
    "Los diccionarios python te permiten modelar datos más complejos. Los diccionarios son una colección de pares clave/valor, y son muy comunes en los programas Python. Su flexibilidad le permite trabajar dinámicamente con valores relacionados sin tener que crear clases u objetos.\n",
    "\n",
    "Un diccionario se indica en Python mediante el uso de llaves ({ }), con pares clave/valor separados por dos puntos (:). Las claves son literales de cadena y los valores pueden ser de cualquier tipo de datos.{ }:\n",
    "\n",
    "\n"
   ]
  },
  {
   "cell_type": "code",
   "execution_count": null,
   "metadata": {},
   "outputs": [],
   "source": [
    "# Para este ejercicio, crearás un diccionario que almacene información sobre el planeta Marte.\n",
    "# Agrega el código para crear un nuevo diccionario denominado 'planet'. Rellena con la siguiente información:\n",
    "\n",
    "planet = {\n",
    "    'name': 'Mars',\n",
    "    'moons': 2\n",
    "}\n",
    "\n",
    "# Muestra el nombre del planeta y el número de lunas que tiene.\n",
    "print(f\"\"\"El planeta {planet['name']} tiene {planet['moons']} lunas\"\"\") # planet['name'] es idéntico a usar planet.get('name')\n",
    "\n",
    "# Agrega un nuevo valor con una clave de 'circunferencia (km)'. \n",
    "# Este nuevo valor debería almacenar un diccionario con las dos circunferencias del planeta:\n",
    "planet['circunferencia (km)'] = {\n",
    "    'polar': 6752,\n",
    "    'equatorial': 6792\n",
    "}\n",
    "\n",
    "# Imprime el nombre del planeta con su circunferencia polar.\n",
    "print(f\"\"\"El planeta {planet['name']} tiene {planet['moons']} lunas y una circunferencia polar de {planet['circunferencia (km)']['polar']}\"\"\") \n",
    "\n"
   ]
  },
  {
   "cell_type": "markdown",
   "metadata": {},
   "source": [
    "## Ejercicio 2: Programación dinámica con diccionarios\n",
    "### Ejercicio: Cálculo de valores\n",
    "En este escenario, calcularás tanto el número total de lunas en el sistema solar como el número promedio de lunas que tiene un planeta.\n",
    "\n"
   ]
  },
  {
   "cell_type": "code",
   "execution_count": null,
   "metadata": {},
   "outputs": [],
   "source": [
    "# Planets and moons\n",
    "planet_moons = {\n",
    "    'mercury': 0,\n",
    "    'venus': 0,\n",
    "    'earth': 1,\n",
    "    'mars': 2,\n",
    "    'jupiter': 79,\n",
    "    'saturn': 82,\n",
    "    'uranus': 27,\n",
    "    'neptune': 14,\n",
    "    'pluto': 5,\n",
    "    'haumea': 2,\n",
    "    'makemake': 1,\n",
    "    'eris': 1\n",
    "}\n",
    "\n",
    "\n",
    "# Agrega el código a continuación para determinar el número de lunas. \n",
    "# Comienza almacenando el valor values de planet_moons en una variable denominada moons. \n",
    "moons_totals = 0\n",
    "\n",
    "for moons in planet_moons.values():\n",
    "    moons_totals = moons_totals + moons\n",
    "\n",
    "# A continuación, almacena el número de planetas en una variable denominada planets.\n",
    "numero_planetas = len(planet_moons)\n",
    "\n",
    "print(f\"\"\"Hay un total de {moons_totals} lunas distribuidas en {numero_planetas} planetas\"\"\")\n",
    "\n",
    "# Finalmente calcule el promedio dividiendo total_moons por planets e imprimiendo los resultados.\n",
    "promedio = moons_totals / numero_planetas\n",
    "print(promedio)\n"
   ]
  }
 ],
 "metadata": {
  "interpreter": {
   "hash": "8063767513262164a0fcd2aadb4a0586755581228d982f1cf21d3bafc4442c9d"
  },
  "kernelspec": {
   "display_name": "Python 3.10.2 64-bit",
   "language": "python",
   "name": "python3"
  },
  "language_info": {
   "codemirror_mode": {
    "name": "ipython",
    "version": 3
   },
   "file_extension": ".py",
   "mimetype": "text/x-python",
   "name": "python",
   "nbconvert_exporter": "python",
   "pygments_lexer": "ipython3",
   "version": "3.10.2"
  },
  "orig_nbformat": 4
 },
 "nbformat": 4,
 "nbformat_minor": 2
}
